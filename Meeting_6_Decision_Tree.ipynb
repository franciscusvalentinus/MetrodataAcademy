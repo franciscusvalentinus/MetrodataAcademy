{
  "nbformat": 4,
  "nbformat_minor": 0,
  "metadata": {
    "colab": {
      "name": "Meeting 6 - Decision Tree.ipynb",
      "provenance": [],
      "collapsed_sections": [],
      "toc_visible": true
    },
    "kernelspec": {
      "name": "python3",
      "display_name": "Python 3"
    },
    "language_info": {
      "name": "python"
    }
  },
  "cells": [
    {
      "cell_type": "code",
      "metadata": {
        "id": "R5KDailaYc5H"
      },
      "source": [
        "import numpy as np\n",
        "import pandas as pd\n",
        "import matplotlib.pyplot as plt\n",
        "import seaborn as sns"
      ],
      "execution_count": null,
      "outputs": []
    },
    {
      "cell_type": "markdown",
      "metadata": {
        "id": "LEeRUJyHvrm9"
      },
      "source": [
        "# Exercise 1 Iris Datasets\n",
        "Gunakan dataset iris pada link berikut https://raw.githubusercontent.com/elflin/datasets/main/Iris.csv </br>\n",
        "untuk melakukan klasifikasi menggunakna Decision tree"
      ]
    },
    {
      "cell_type": "markdown",
      "metadata": {
        "id": "uI_Fece6vaKi"
      },
      "source": [
        "## Load Dataset"
      ]
    },
    {
      "cell_type": "code",
      "metadata": {
        "id": "e6fLLOJYYnwS"
      },
      "source": [
        "# Load data dari link github berikut\n",
        "# Munculkan head() dari data\n",
        "url = \"https://raw.githubusercontent.com/elflin/datasets/main/Iris.csv\""
      ],
      "execution_count": null,
      "outputs": []
    },
    {
      "cell_type": "code",
      "metadata": {
        "id": "KdulMBvAaBK3"
      },
      "source": [
        "# Munculkan informasi dari column pada data\n"
      ],
      "execution_count": null,
      "outputs": []
    },
    {
      "cell_type": "code",
      "metadata": {
        "id": "i_ii5DDlaamT"
      },
      "source": [
        "# Munculkan deskripsi dari masing-masing column pada data\n"
      ],
      "execution_count": null,
      "outputs": []
    },
    {
      "cell_type": "code",
      "metadata": {
        "id": "4_Hzym0LxjjV"
      },
      "source": [
        "# Munculkan jumlah data untuk masing-masing class\n",
        "sns.countplot(data[\"Species\"], palette=\"Set2\")\n",
        "plt.title(\"Species \")\n",
        "plt.show()"
      ],
      "execution_count": null,
      "outputs": []
    },
    {
      "cell_type": "code",
      "metadata": {
        "id": "rVCMoz64bxHL"
      },
      "source": [
        "# Alternatif: Seaborn pairplot untuk memunculkan penyebaran data\n",
        "sns.pairplot(data=data, hue='Species')\n",
        "plt.show()"
      ],
      "execution_count": null,
      "outputs": []
    },
    {
      "cell_type": "markdown",
      "metadata": {
        "id": "Yv78W3uu9SSr"
      },
      "source": [
        "## Pre-procesing Data"
      ]
    },
    {
      "cell_type": "code",
      "metadata": {
        "id": "KrH4Q15LeV2v"
      },
      "source": [
        "# Pisahkan dataset menjadi x dan y menggunakna loc\n"
      ],
      "execution_count": null,
      "outputs": []
    },
    {
      "cell_type": "code",
      "metadata": {
        "id": "JhQT55QK23Nl"
      },
      "source": [
        "# Normalisasi data\n"
      ],
      "execution_count": null,
      "outputs": []
    },
    {
      "cell_type": "code",
      "metadata": {
        "id": "ROQ2ETYf4NkJ"
      },
      "source": [
        "# Setelah dataset dibagi menjadi x = atribut dan y = class kemudian dipisahkan menjadi data training dan testing menggunakan train_test_split()\n"
      ],
      "execution_count": null,
      "outputs": []
    },
    {
      "cell_type": "markdown",
      "metadata": {
        "id": "4ZmCL9Mtfnin"
      },
      "source": [
        "## Decision tree"
      ]
    },
    {
      "cell_type": "code",
      "metadata": {
        "id": "6JBQohlqekBM"
      },
      "source": [
        "from sklearn import tree\n",
        "# Buat model menggunakan decision tree\n",
        "\n",
        "\n",
        "# Lakukan training dengan dataset train\n"
      ],
      "execution_count": null,
      "outputs": []
    },
    {
      "cell_type": "code",
      "metadata": {
        "id": "Rl7R9d3aek33"
      },
      "source": [
        "# Lakukan prediksi menggunakan x_test lalu print class hasil prediksi\n"
      ],
      "execution_count": null,
      "outputs": []
    },
    {
      "cell_type": "code",
      "metadata": {
        "id": "hR3SWxKhemXn"
      },
      "source": [
        "# Print akurasi dari data testing menggunakan score\n"
      ],
      "execution_count": null,
      "outputs": []
    },
    {
      "cell_type": "code",
      "metadata": {
        "id": "PzetUzpRVOBd"
      },
      "source": [
        "# tampilkan tree hasil training\n",
        "plt.figure(figsize=(15,15))\n",
        "tree.plot_tree(dtree) \n",
        "plt.show()"
      ],
      "execution_count": null,
      "outputs": []
    },
    {
      "cell_type": "code",
      "metadata": {
        "id": "r-u14-mzVVu8"
      },
      "source": [
        "import graphviz \n",
        "# alternatif menggunakan lib graphviz untuk menampilkan tree\n",
        "dot_data = tree.export_graphviz(dtree, out_file=None, \n",
        "                                feature_names=X.columns.values.tolist(),  \n",
        "                                class_names=y.unique(),  \n",
        "                                filled=True, rounded=True,  \n",
        "                                special_characters=True)  \n",
        "graph = graphviz.Source(dot_data) \n",
        "graph "
      ],
      "execution_count": null,
      "outputs": []
    },
    {
      "cell_type": "code",
      "metadata": {
        "id": "BAc7812RlA2v"
      },
      "source": [
        "from sklearn.metrics import confusion_matrix\n",
        "# Matriks confusion array using sklearn\n"
      ],
      "execution_count": null,
      "outputs": []
    },
    {
      "cell_type": "code",
      "metadata": {
        "id": "etYzwDlwlrh0"
      },
      "source": [
        "# Munculkan heatmap dari matriks confusion\n"
      ],
      "execution_count": null,
      "outputs": []
    },
    {
      "cell_type": "code",
      "metadata": {
        "id": "KsBTz-i1hqmm"
      },
      "source": [
        "# Model Evaluation\n",
        "from sklearn.metrics import classification_report\n"
      ],
      "execution_count": null,
      "outputs": []
    },
    {
      "cell_type": "markdown",
      "metadata": {
        "id": "hfbxH3yzfxJb"
      },
      "source": [
        "## Random Forest"
      ]
    },
    {
      "cell_type": "code",
      "metadata": {
        "id": "eM-rLrbJfwT0"
      },
      "source": [
        "# Buatlah prediksi dengan Random forest\n",
        "from sklearn.ensemble import RandomForestClassifier\n",
        "\n",
        "\n",
        "# Lakukan training dengan dataset train\n"
      ],
      "execution_count": null,
      "outputs": []
    },
    {
      "cell_type": "code",
      "metadata": {
        "id": "AbT8WP11gOwM"
      },
      "source": [
        "# Lakukan prediksi menggunakan x_test lalu print class hasil prediksi\n"
      ],
      "execution_count": null,
      "outputs": []
    },
    {
      "cell_type": "code",
      "metadata": {
        "id": "aJfDqZ9YgOwN"
      },
      "source": [
        "# Print akurasi dari data testing menggunakan score\n"
      ],
      "execution_count": null,
      "outputs": []
    },
    {
      "cell_type": "code",
      "metadata": {
        "id": "8FJOV5tPgu9W"
      },
      "source": [
        "import graphviz \n",
        "# alternatif menggunakan lib graphviz untuk menampilkan Random forest\n",
        "# random forest terdiri dari banyak tree oleh sebab itu tidak bs dimunculkan semua, untuk memanggil 1 1 maka dapat menggunakan \n",
        "# [namarandomforest].estimators_[index]\n",
        "dot_data = tree.export_graphviz(randforest.estimators_[1], out_file=None, \n",
        "                                feature_names=X.columns.values.tolist(),  \n",
        "                                class_names=y.unique(),  \n",
        "                                filled=True, rounded=True,  \n",
        "                                special_characters=True)  \n",
        "graph = graphviz.Source(dot_data) \n",
        "graph "
      ],
      "execution_count": null,
      "outputs": []
    },
    {
      "cell_type": "markdown",
      "metadata": {
        "id": "UMzuOcWG9W1a"
      },
      "source": [
        "# Exercise 2 Orthopedic Datasets\n",
        "Gunakan dataset iris pada link berikut https://raw.githubusercontent.com/elflin/datasets/main/orthopedic_3class.csv </br>\n",
        "untuk melakukan klasifikasi menggunakna Decision tree\n"
      ]
    },
    {
      "cell_type": "markdown",
      "metadata": {
        "id": "gglQmPnm-HkG"
      },
      "source": [
        "## Load Dataset"
      ]
    },
    {
      "cell_type": "code",
      "metadata": {
        "id": "jozC4WqX-PtG"
      },
      "source": [
        "# Load data dari link github berikut\n",
        "# Munculkan head() dari data\n",
        "url = \"https://raw.githubusercontent.com/elflin/datasets/main/orthopedic_3class.csv\"\n"
      ],
      "execution_count": null,
      "outputs": []
    },
    {
      "cell_type": "code",
      "metadata": {
        "id": "UbEWEPS5-PtH"
      },
      "source": [
        "# Munculkan informasi dari column pada data\n"
      ],
      "execution_count": null,
      "outputs": []
    },
    {
      "cell_type": "code",
      "metadata": {
        "id": "yM-TVWhB-PtH"
      },
      "source": [
        "# Munculkan deskripsi dari masing-masing column pada data\n"
      ],
      "execution_count": null,
      "outputs": []
    },
    {
      "cell_type": "code",
      "metadata": {
        "id": "j-LgVqgZ-PtH"
      },
      "source": [
        "# Munculkan jumlah data untuk masing-masing class\n"
      ],
      "execution_count": null,
      "outputs": []
    },
    {
      "cell_type": "code",
      "metadata": {
        "id": "hI9kdvUBd_Is"
      },
      "source": [
        "# Alternatif: Seaborn Pairplot\n"
      ],
      "execution_count": null,
      "outputs": []
    },
    {
      "cell_type": "markdown",
      "metadata": {
        "id": "ispjB9Bc_x0a"
      },
      "source": [
        "## Pre-procesing Data"
      ]
    },
    {
      "cell_type": "code",
      "metadata": {
        "id": "Kgj7IH0c_x0a"
      },
      "source": [
        "# Pisahkan dataset menjadi x dan y menggunakna loc\n"
      ],
      "execution_count": null,
      "outputs": []
    },
    {
      "cell_type": "code",
      "metadata": {
        "id": "kaUX1vzJ_x0b"
      },
      "source": [
        "# Normalisasi data\n",
        "from sklearn.preprocessing import MinMaxScaler\n"
      ],
      "execution_count": null,
      "outputs": []
    },
    {
      "cell_type": "code",
      "metadata": {
        "id": "2ks-05h0_x0b"
      },
      "source": [
        "# Setelah dataset dibagi menjadi x = atribut dan y = class kemudian dipisahkan menjadi data training dan testing menggunakan train_test_split()\n",
        "from sklearn.model_selection import train_test_split"
      ],
      "execution_count": null,
      "outputs": []
    },
    {
      "cell_type": "markdown",
      "metadata": {
        "id": "C_IMswPYibqC"
      },
      "source": [
        "## Decision tree"
      ]
    },
    {
      "cell_type": "code",
      "metadata": {
        "id": "KjKp7kYcibqD"
      },
      "source": [
        "from sklearn import tree\n",
        "# Buat model menggunakan decision tree\n",
        "\n",
        "\n",
        "# Lakukan training dengan dataset train\n"
      ],
      "execution_count": null,
      "outputs": []
    },
    {
      "cell_type": "code",
      "metadata": {
        "id": "6MUusnBEibqE"
      },
      "source": [
        "# Lakukan prediksi menggunakan x_test lalu print class hasil prediksi\n"
      ],
      "execution_count": null,
      "outputs": []
    },
    {
      "cell_type": "code",
      "metadata": {
        "id": "M8AJ7ElTibqE"
      },
      "source": [
        "# Print akurasi dari data testing menggunakan score\n"
      ],
      "execution_count": null,
      "outputs": []
    },
    {
      "cell_type": "code",
      "metadata": {
        "id": "tHhj0ofWibqE"
      },
      "source": [
        "# tampilkan tree hasil training\n"
      ],
      "execution_count": null,
      "outputs": []
    },
    {
      "cell_type": "code",
      "metadata": {
        "id": "y-iosiLyibqE"
      },
      "source": [
        "import graphviz \n",
        "# alternatif menggunakan lib graphviz untuk menampilkan tree\n"
      ],
      "execution_count": null,
      "outputs": []
    },
    {
      "cell_type": "code",
      "metadata": {
        "id": "yK3l_pCaibqF"
      },
      "source": [
        "from sklearn.metrics import confusion_matrix\n",
        "# Matriks confusion array using sklearn\n"
      ],
      "execution_count": null,
      "outputs": []
    },
    {
      "cell_type": "code",
      "metadata": {
        "id": "XD2AUJw8ibqF"
      },
      "source": [
        "# Munculkan heatmap dari matriks confusion\n"
      ],
      "execution_count": null,
      "outputs": []
    },
    {
      "cell_type": "code",
      "metadata": {
        "id": "YiceW-BFjHnW"
      },
      "source": [
        "# Model Evaluation\n"
      ],
      "execution_count": null,
      "outputs": []
    },
    {
      "cell_type": "markdown",
      "metadata": {
        "id": "oQVn3GPFibqF"
      },
      "source": [
        "## Random Forest"
      ]
    },
    {
      "cell_type": "code",
      "metadata": {
        "id": "Nb5X5UnJibqF"
      },
      "source": [
        "# Buatlah prediksi dengan Random forest\n",
        "from sklearn.ensemble import RandomForestClassifier\n",
        "\n",
        "\n",
        "# Lakukan training dengan dataset train\n"
      ],
      "execution_count": null,
      "outputs": []
    },
    {
      "cell_type": "code",
      "metadata": {
        "id": "yTheGEFqibqF"
      },
      "source": [
        "# Lakukan prediksi menggunakan x_test lalu print class hasil prediksi\n"
      ],
      "execution_count": null,
      "outputs": []
    },
    {
      "cell_type": "code",
      "metadata": {
        "id": "qlVxG3SCibqF"
      },
      "source": [
        "# Print akurasi dari data testing menggunakan score\n"
      ],
      "execution_count": null,
      "outputs": []
    },
    {
      "cell_type": "code",
      "metadata": {
        "id": "Y1AHMLT3ibqG"
      },
      "source": [
        "import graphviz \n",
        "# alternatif menggunakan lib graphviz untuk menampilkan Random forest\n",
        "# random forest terdiri dari banyak tree oleh sebab itu tidak bs dimunculkan semua, untuk memanggil 1 1 maka dapat menggunakan \n",
        "# [namarandomforest].estimators_[index]\n"
      ],
      "execution_count": null,
      "outputs": []
    },
    {
      "cell_type": "markdown",
      "metadata": {
        "id": "2hBSykt_Ah4E"
      },
      "source": [
        "# Assignment\n",
        "Gunakan dataset dari kaggle yang memiliki atribut dan class yang spesifik </br>\n",
        "untuk melakukan klasifikasi menggunakna Decision tree\n"
      ]
    },
    {
      "cell_type": "markdown",
      "metadata": {
        "id": "L6vWczqYAh4F"
      },
      "source": [
        "## Load Dataset"
      ]
    },
    {
      "cell_type": "code",
      "metadata": {
        "id": "NlNYroN-Ah4F"
      },
      "source": [
        "# Load data dari link github berikut\n",
        "# Munculkan head() dari data\n"
      ],
      "execution_count": null,
      "outputs": []
    },
    {
      "cell_type": "code",
      "metadata": {
        "id": "xntTAx8XAh4F"
      },
      "source": [
        "# Munculkan informasi dari column pada data\n"
      ],
      "execution_count": null,
      "outputs": []
    },
    {
      "cell_type": "code",
      "metadata": {
        "id": "ymYi-j3cAh4H"
      },
      "source": [
        "# Munculkan deskripsi dari masing-masing column pada data\n"
      ],
      "execution_count": null,
      "outputs": []
    },
    {
      "cell_type": "code",
      "metadata": {
        "id": "RamRjVXHAh4H"
      },
      "source": [
        "# Munculkan jumlah data untuk masing-masing class\n"
      ],
      "execution_count": null,
      "outputs": []
    },
    {
      "cell_type": "code",
      "metadata": {
        "id": "rh1Lgi3ef51B"
      },
      "source": [
        "# Alternatif: Seaborn Pairplot"
      ],
      "execution_count": null,
      "outputs": []
    },
    {
      "cell_type": "markdown",
      "metadata": {
        "id": "o4NKJgrXAh4H"
      },
      "source": [
        "## Pre-procesing Data"
      ]
    },
    {
      "cell_type": "code",
      "metadata": {
        "id": "1oibhMWsAh4H"
      },
      "source": [
        "# Pisahkan dataset menjadi x dan y menggunakna loc\n"
      ],
      "execution_count": null,
      "outputs": []
    },
    {
      "cell_type": "code",
      "metadata": {
        "id": "qKkdMJMOAh4H"
      },
      "source": [
        "# Normalisasi data\n"
      ],
      "execution_count": null,
      "outputs": []
    },
    {
      "cell_type": "code",
      "metadata": {
        "id": "nU5CO6cCAh4H"
      },
      "source": [
        "# Setelah dataset dibagi menjadi x = atribut dan y = class kemudian dipisahkan menjadi data training dan testing menggunakan train_test_split()\n"
      ],
      "execution_count": null,
      "outputs": []
    },
    {
      "cell_type": "markdown",
      "metadata": {
        "id": "yQL8wg5Oiilh"
      },
      "source": [
        "## Decision tree"
      ]
    },
    {
      "cell_type": "code",
      "metadata": {
        "id": "_jh-dSh8iilh"
      },
      "source": [
        "\n",
        "# Buat model menggunakan decision tree\n",
        "\n",
        "\n",
        "# Lakukan training dengan dataset train\n"
      ],
      "execution_count": null,
      "outputs": []
    },
    {
      "cell_type": "code",
      "metadata": {
        "id": "Y6UOsUSGiili"
      },
      "source": [
        "# Lakukan prediksi menggunakan x_test lalu print class hasil prediksi\n"
      ],
      "execution_count": null,
      "outputs": []
    },
    {
      "cell_type": "code",
      "metadata": {
        "id": "LhgNATLIiili"
      },
      "source": [
        "# Print akurasi dari data testing menggunakan score\n"
      ],
      "execution_count": null,
      "outputs": []
    },
    {
      "cell_type": "code",
      "metadata": {
        "id": "fXezQszViili"
      },
      "source": [
        "# tampilkan tree hasil training\n"
      ],
      "execution_count": null,
      "outputs": []
    },
    {
      "cell_type": "code",
      "metadata": {
        "id": "hsSoW_Qliilj"
      },
      "source": [
        "\n",
        "# alternatif menggunakan lib graphviz untuk menampilkan tree\n"
      ],
      "execution_count": null,
      "outputs": []
    },
    {
      "cell_type": "code",
      "metadata": {
        "id": "LmSTJGIliilj"
      },
      "source": [
        "\n",
        "# Matriks confusion array using sklearn\n"
      ],
      "execution_count": null,
      "outputs": []
    },
    {
      "cell_type": "code",
      "metadata": {
        "id": "98ccMgq2iilj"
      },
      "source": [
        "# Munculkan heatmap dari matriks confusion\n"
      ],
      "execution_count": null,
      "outputs": []
    },
    {
      "cell_type": "code",
      "metadata": {
        "id": "Gx7_-qt4jJeq"
      },
      "source": [
        "# Model Evaluation\n"
      ],
      "execution_count": null,
      "outputs": []
    },
    {
      "cell_type": "markdown",
      "metadata": {
        "id": "qQeHlmPLiilk"
      },
      "source": [
        "## Random Forest"
      ]
    },
    {
      "cell_type": "code",
      "metadata": {
        "id": "2ROg8afRiilk"
      },
      "source": [
        "# Buatlah prediksi dengan Random forest\n",
        "\n",
        "# Lakukan training dengan dataset train\n"
      ],
      "execution_count": null,
      "outputs": []
    },
    {
      "cell_type": "code",
      "metadata": {
        "id": "-pBe4mXSiilk"
      },
      "source": [
        "# Lakukan prediksi menggunakan x_test lalu print class hasil prediksi\n"
      ],
      "execution_count": null,
      "outputs": []
    },
    {
      "cell_type": "code",
      "metadata": {
        "id": "ZxRC4J0iiill"
      },
      "source": [
        "# Print akurasi dari data testing menggunakan score\n"
      ],
      "execution_count": null,
      "outputs": []
    },
    {
      "cell_type": "code",
      "metadata": {
        "id": "ONLSL6uDiill"
      },
      "source": [
        "\n",
        "# alternatif menggunakan lib graphviz untuk menampilkan Random forest\n",
        "# random forest terdiri dari banyak tree oleh sebab itu tidak bs dimunculkan semua, untuk memanggil 1 1 maka dapat menggunakan \n",
        "# [namarandomforest].estimators_[index]\n"
      ],
      "execution_count": null,
      "outputs": []
    }
  ]
}