{
  "nbformat": 4,
  "nbformat_minor": 0,
  "metadata": {
    "colab": {
      "name": "Meeting 3 - EDA and Visualization.ipynb",
      "provenance": [],
      "collapsed_sections": [],
      "toc_visible": true
    },
    "kernelspec": {
      "name": "python3",
      "display_name": "Python 3"
    },
    "language_info": {
      "name": "python"
    }
  },
  "cells": [
    {
      "cell_type": "code",
      "metadata": {
        "id": "FVqiJvfaF6X7"
      },
      "source": [
        "# Import libraries for EDA and Visualization\n",
        "import numpy as np\n",
        "import pandas as pd\n",
        "\n",
        "import matplotlib.pyplot as plt\n",
        "import seaborn as sns"
      ],
      "execution_count": 3,
      "outputs": []
    },
    {
      "cell_type": "markdown",
      "metadata": {
        "id": "8WBE9NxuMWpY"
      },
      "source": [
        "# DataFrame manipulation\n",
        "A DataFrame is a table. It contains an array of individual entries, each of which has a certain value. Each entry corresponds to a row (or record) and a column."
      ]
    },
    {
      "cell_type": "markdown",
      "metadata": {
        "id": "M6pV-tTmMkJ3"
      },
      "source": [
        "## Creating DataFrame"
      ]
    },
    {
      "cell_type": "code",
      "metadata": {
        "id": "yU6tE16dZKC9"
      },
      "source": [
        "main_office = {\n",
        "    'name' : ['Jack', 'Aamir', 'Catherine'],\n",
        "    'age' : [34, 30, 26],\n",
        "    'city' : ['Sydney', 'Delhi', 'New york'],\n",
        "    'country': ['Australia', 'India', 'USA']\n",
        "}\n",
        "\n",
        "# Create a DataFrame from main office employee dictionary\n"
      ],
      "execution_count": null,
      "outputs": []
    },
    {
      "cell_type": "markdown",
      "metadata": {
        "id": "JGpMzaNSouFL"
      },
      "source": [
        "## Add new row\n",
        "Becareful, when using append, you need to assign to new DataFrame"
      ]
    },
    {
      "cell_type": "code",
      "metadata": {
        "id": "m_8Kiv4lzGRi"
      },
      "source": [
        "# Add new employee named Utomo from Jakarta\n"
      ],
      "execution_count": null,
      "outputs": []
    },
    {
      "cell_type": "code",
      "metadata": {
        "id": "0Ff9q494r3-S"
      },
      "source": [
        "branch_office = {\n",
        "    'name' : ['Sananthachat', 'Mansoor', 'Farida'],\n",
        "    'age' : [24, 40, 28],\n",
        "    'city' : ['Bangkok', 'Dubai', 'Tehran'],\n",
        "    'country': ['Thailand', 'UAE', 'Iran']\n",
        "}\n",
        "\n",
        "# Create another DataFrame for branch office employees\n"
      ],
      "execution_count": null,
      "outputs": []
    },
    {
      "cell_type": "code",
      "metadata": {
        "id": "0jx-9YiQs0zY"
      },
      "source": [
        "# Add (concat) branch office employees to main office's\n"
      ],
      "execution_count": null,
      "outputs": []
    },
    {
      "cell_type": "markdown",
      "metadata": {
        "id": "OzpYBMcPMnQs"
      },
      "source": [
        "## Editing DataFrame"
      ]
    },
    {
      "cell_type": "code",
      "metadata": {
        "id": "wY41qJCI2bW2"
      },
      "source": [
        "# Fix 'New york' to 'New York'\n"
      ],
      "execution_count": null,
      "outputs": []
    },
    {
      "cell_type": "markdown",
      "metadata": {
        "id": "kXdBUXzNMtHH"
      },
      "source": [
        "## Adding Column"
      ]
    },
    {
      "cell_type": "code",
      "metadata": {
        "id": "IgNnED4nwsas"
      },
      "source": [
        "# Data tinggi dan berat untuk semua karyawan sebagai berikut:\n",
        "height_in_cm = [178, 181, 167, 166, 171, 185, 160]\n",
        "weight_in_kg = [90, 70, 67, 89, 70, 102, 45]\n",
        "\n",
        "# Tambahkan data tinggi dan berat ke main office dan branch office employees\n"
      ],
      "execution_count": null,
      "outputs": []
    },
    {
      "cell_type": "code",
      "metadata": {
        "id": "XlZD5iOrxvOq"
      },
      "source": [
        "# Tambahkan kolom BMI (Body Mass Index) untuk setiap karyawan\n",
        "# Rumus BMI: BMI = weight (kg) / height2 (m) \n",
        "# Gunakan Lambda function dan method assign\n"
      ],
      "execution_count": null,
      "outputs": []
    },
    {
      "cell_type": "markdown",
      "metadata": {
        "id": "edEbtnscqy97"
      },
      "source": [
        "## Locating data"
      ]
    },
    {
      "cell_type": "code",
      "metadata": {
        "id": "5feuNR_rp7DG",
        "colab": {
          "base_uri": "https://localhost:8080/",
          "height": 80
        },
        "outputId": "e1e8b94d-d980-4ec5-97dd-b356a465dc10"
      },
      "source": [
        "# Dengan method loc, tampilkan data dengan nama employee 'Aamir'\n"
      ],
      "execution_count": null,
      "outputs": [
        {
          "output_type": "execute_result",
          "data": {
            "text/html": [
              "<div>\n",
              "<style scoped>\n",
              "    .dataframe tbody tr th:only-of-type {\n",
              "        vertical-align: middle;\n",
              "    }\n",
              "\n",
              "    .dataframe tbody tr th {\n",
              "        vertical-align: top;\n",
              "    }\n",
              "\n",
              "    .dataframe thead th {\n",
              "        text-align: right;\n",
              "    }\n",
              "</style>\n",
              "<table border=\"1\" class=\"dataframe\">\n",
              "  <thead>\n",
              "    <tr style=\"text-align: right;\">\n",
              "      <th></th>\n",
              "      <th>name</th>\n",
              "      <th>age</th>\n",
              "      <th>city</th>\n",
              "      <th>country</th>\n",
              "      <th>height (cm)</th>\n",
              "      <th>weight (kg)</th>\n",
              "      <th>BMI</th>\n",
              "    </tr>\n",
              "  </thead>\n",
              "  <tbody>\n",
              "    <tr>\n",
              "      <th>1</th>\n",
              "      <td>Aamir</td>\n",
              "      <td>30.0</td>\n",
              "      <td>Delhi</td>\n",
              "      <td>India</td>\n",
              "      <td>181</td>\n",
              "      <td>70</td>\n",
              "      <td>21.366869</td>\n",
              "    </tr>\n",
              "  </tbody>\n",
              "</table>\n",
              "</div>"
            ],
            "text/plain": [
              "    name   age   city country  height (cm)  weight (kg)        BMI\n",
              "1  Aamir  30.0  Delhi   India          181           70  21.366869"
            ]
          },
          "metadata": {
            "tags": []
          },
          "execution_count": 164
        }
      ]
    },
    {
      "cell_type": "code",
      "metadata": {
        "id": "DoVkVezFw1eS",
        "colab": {
          "base_uri": "https://localhost:8080/",
          "height": 142
        },
        "outputId": "b2a083ae-85ec-401d-bf38-8bccb68d8fa3"
      },
      "source": [
        "# Dengan method iloc, tampilkan data dengan index 1 sampai 3\n"
      ],
      "execution_count": null,
      "outputs": [
        {
          "output_type": "execute_result",
          "data": {
            "text/html": [
              "<div>\n",
              "<style scoped>\n",
              "    .dataframe tbody tr th:only-of-type {\n",
              "        vertical-align: middle;\n",
              "    }\n",
              "\n",
              "    .dataframe tbody tr th {\n",
              "        vertical-align: top;\n",
              "    }\n",
              "\n",
              "    .dataframe thead th {\n",
              "        text-align: right;\n",
              "    }\n",
              "</style>\n",
              "<table border=\"1\" class=\"dataframe\">\n",
              "  <thead>\n",
              "    <tr style=\"text-align: right;\">\n",
              "      <th></th>\n",
              "      <th>name</th>\n",
              "      <th>age</th>\n",
              "      <th>city</th>\n",
              "      <th>country</th>\n",
              "      <th>height (cm)</th>\n",
              "      <th>weight (kg)</th>\n",
              "      <th>BMI</th>\n",
              "    </tr>\n",
              "  </thead>\n",
              "  <tbody>\n",
              "    <tr>\n",
              "      <th>1</th>\n",
              "      <td>Aamir</td>\n",
              "      <td>30.0</td>\n",
              "      <td>Delhi</td>\n",
              "      <td>India</td>\n",
              "      <td>181</td>\n",
              "      <td>70</td>\n",
              "      <td>21.366869</td>\n",
              "    </tr>\n",
              "    <tr>\n",
              "      <th>2</th>\n",
              "      <td>Catherine</td>\n",
              "      <td>26.0</td>\n",
              "      <td>New York</td>\n",
              "      <td>USA</td>\n",
              "      <td>167</td>\n",
              "      <td>67</td>\n",
              "      <td>24.023809</td>\n",
              "    </tr>\n",
              "    <tr>\n",
              "      <th>3</th>\n",
              "      <td>Utomo</td>\n",
              "      <td>NaN</td>\n",
              "      <td>Jakarta</td>\n",
              "      <td>NaN</td>\n",
              "      <td>166</td>\n",
              "      <td>89</td>\n",
              "      <td>32.297866</td>\n",
              "    </tr>\n",
              "  </tbody>\n",
              "</table>\n",
              "</div>"
            ],
            "text/plain": [
              "        name   age      city country  height (cm)  weight (kg)        BMI\n",
              "1      Aamir  30.0     Delhi   India          181           70  21.366869\n",
              "2  Catherine  26.0  New York     USA          167           67  24.023809\n",
              "3      Utomo   NaN   Jakarta     NaN          166           89  32.297866"
            ]
          },
          "metadata": {
            "tags": []
          },
          "execution_count": 165
        }
      ]
    },
    {
      "cell_type": "markdown",
      "metadata": {
        "id": "LUAcdT0hxH0i"
      },
      "source": [
        "## Dealing with Missing Values\n",
        "Check out this DataFrame:<br>\n",
        "![image.png](data:image/png;base64,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)"
      ]
    },
    {
      "cell_type": "code",
      "metadata": {
        "id": "w1ZPG5UbxLdA"
      },
      "source": [
        "# Check if there is missing values. Use isna() and any()\n"
      ],
      "execution_count": null,
      "outputs": []
    },
    {
      "cell_type": "code",
      "metadata": {
        "id": "IPpLfsbeybzp"
      },
      "source": [
        "# Since our data is so little, please change the NaN to \n",
        "# mean of all values in 'age' column\n"
      ],
      "execution_count": null,
      "outputs": []
    },
    {
      "cell_type": "code",
      "metadata": {
        "id": "-Hk31Aivz8Ti"
      },
      "source": [
        "# Drop all data containing NaN\n"
      ],
      "execution_count": null,
      "outputs": []
    },
    {
      "cell_type": "markdown",
      "metadata": {
        "id": "i-gHjeuzAd_I"
      },
      "source": [
        "# Exploratory Data Analysis "
      ]
    },
    {
      "cell_type": "markdown",
      "metadata": {
        "id": "w3loFxCgNSay"
      },
      "source": [
        "## Loading flights Dataset from Seaborn\n",
        "```\n",
        "Data columns (total 3 columns):\n",
        " #   Column      Non-Null Count  Dtype   \n",
        "---  ------      --------------  -----   \n",
        " 0   year        144 non-null    int64   \n",
        " 1   month       144 non-null    category\n",
        " 2   passengers  144 non-null    int64\n",
        " ```\n",
        "\n"
      ]
    },
    {
      "cell_type": "code",
      "metadata": {
        "id": "fqXi6UhzGDZB"
      },
      "source": [
        "# Load dataset 'flights' dari library seaborn\n",
        "df = sns.load_dataset(name='flights')\n",
        "\n",
        "# Tampilkan secara acak lima sample penerbangan\n"
      ],
      "execution_count": null,
      "outputs": []
    },
    {
      "cell_type": "code",
      "metadata": {
        "id": "5n_ZDnGaEcmL"
      },
      "source": [
        "# Tampilkanlah Tendensi Sentral (central tendency) dari dataset ini \n"
      ],
      "execution_count": null,
      "outputs": []
    },
    {
      "cell_type": "code",
      "metadata": {
        "id": "2AwOTyXD55YH"
      },
      "source": [
        "# Tampilkanlan jumlah total penerbangan per tahun dengan groupby year\n"
      ],
      "execution_count": null,
      "outputs": []
    },
    {
      "cell_type": "code",
      "metadata": {
        "id": "8fcFphJHDoA-"
      },
      "source": [
        "# Buatlah sebuah scatter plot untuk menunjukkan apakah\n",
        "# dari tahun 1949 hingga 1960 jumlah penumpang cenderung naik?\n"
      ],
      "execution_count": null,
      "outputs": []
    },
    {
      "cell_type": "code",
      "metadata": {
        "id": "HGyW558OGP8p"
      },
      "source": [
        "# Pada bulan apakah jumlah penumpang paling banyak\n"
      ],
      "execution_count": null,
      "outputs": []
    },
    {
      "cell_type": "markdown",
      "metadata": {
        "id": "tuYOzjyfZnpW"
      },
      "source": [
        "## Locating specific data"
      ]
    },
    {
      "cell_type": "code",
      "metadata": {
        "id": "hp--zB4P6_n9"
      },
      "source": [
        "# Tampilkan data penerbangan pada bulan Nov, tahun 1950\n"
      ],
      "execution_count": null,
      "outputs": []
    },
    {
      "cell_type": "code",
      "metadata": {
        "id": "Bsy28EAq7qVc"
      },
      "source": [
        "# Tampilkan data penerbangan pada index ke 1, 12, 23, 45, dan 56\n"
      ],
      "execution_count": null,
      "outputs": []
    },
    {
      "cell_type": "markdown",
      "metadata": {
        "id": "MbzmhAbUvn0r"
      },
      "source": [
        "# Data Visualization"
      ]
    },
    {
      "cell_type": "markdown",
      "metadata": {
        "id": "8Wsnlkeov5TD"
      },
      "source": [
        "CV. Sepeda Sejahtera adalah distributor sepeda di Surabaya. Buatlah visualisasi data dari sales mereka pada bulan Nov 2020, lalu jelaskan pada tanggal berapa mereka mengalami penurunan dan peningkatan terbesar dalam penjualan.\n",
        "\n",
        "data penjualan nov 2020: https://raw.githubusercontent.com/twiradinata/datasets/main/bike_sales_nov_2020.csv"
      ]
    },
    {
      "cell_type": "code",
      "metadata": {
        "id": "QS3Pynj8wLO0"
      },
      "source": [
        "# Buatlah line chart untuk menggambarkan fluktuasi penjualan sepeda, lalu\n",
        "# tentukanlah grafik ter-rendah dari penjualan sepeda.\n"
      ],
      "execution_count": null,
      "outputs": []
    },
    {
      "cell_type": "markdown",
      "metadata": {
        "id": "FSHni7Vr5oCN"
      },
      "source": [
        "## Visualizing Pokemon Data"
      ]
    },
    {
      "cell_type": "code",
      "metadata": {
        "id": "edAp2qXVwiVa"
      },
      "source": [
        "file_name = \"https://raw.githubusercontent.com/twiradinata/datasets/main/pokemon_collection.csv\"\n",
        "df = pd.read_csv(file_name, delimiter=\";\", index_col = 0)\n",
        "df.sample(n=10)"
      ],
      "execution_count": null,
      "outputs": []
    },
    {
      "cell_type": "code",
      "metadata": {
        "id": "Vr9530oWxhsH"
      },
      "source": [
        "# Buatlah DataFrame baru berisi hanya pokemon yang 'Type 1' nya Electric\n"
      ],
      "execution_count": null,
      "outputs": []
    },
    {
      "cell_type": "code",
      "metadata": {
        "id": "65MGXMES3KUK"
      },
      "source": [
        "# Berdasarkan 'Type 1' pokemon manakah yang rata-rata Speed nya paling tinggi?\n"
      ],
      "execution_count": null,
      "outputs": []
    },
    {
      "cell_type": "code",
      "metadata": {
        "id": "oxBL4oJmz055"
      },
      "source": [
        "# Buatlah Boxplot menampilkan seluruh data numerik dari pokemon\n"
      ],
      "execution_count": null,
      "outputs": []
    },
    {
      "cell_type": "code",
      "metadata": {
        "id": "t1YoTBVq1URG"
      },
      "source": [
        "# Buat DataFrame khusus untuk Individual Combat Stats, dimana\n",
        "# kolom \"Total\", \"Stage\", dan \"Legendary\" tidak diperlukan (drop)\n"
      ],
      "execution_count": null,
      "outputs": []
    },
    {
      "cell_type": "code",
      "metadata": {
        "id": "jY1-pqn8_tbH"
      },
      "source": [
        "# Tampilkan Boxplot Individual Combat Stats\n"
      ],
      "execution_count": null,
      "outputs": []
    },
    {
      "cell_type": "markdown",
      "metadata": {
        "id": "umiTFRFi1m0U"
      },
      "source": [
        "## Menampilkan korelasi antar variabel dari Individual Combat Stats "
      ]
    },
    {
      "cell_type": "code",
      "metadata": {
        "id": "qoNUBMLZ4IJA"
      },
      "source": [
        "# Calculate correlation between variables in Individual Combat Stats\n",
        " \n",
        "# Display correlation coeficient using Heatmap\n"
      ],
      "execution_count": null,
      "outputs": []
    },
    {
      "cell_type": "markdown",
      "metadata": {
        "id": "85DOqiiR4gTe"
      },
      "source": [
        "<h1 align='center'>=== Selamat Bekerja ===</h1>"
      ]
    },
    {
      "cell_type": "markdown",
      "metadata": {
        "id": "Ii29GPfx6t7c"
      },
      "source": [
        "# Assignment"
      ]
    },
    {
      "cell_type": "code",
      "metadata": {
        "id": "Ub5VKnPH8Hgi"
      },
      "source": [
        "app_data = 'https://raw.githubusercontent.com/gorbulus/WineReviewAnalysis/master/app_data/winemag-data_first150k.csv'\n",
        "reviews = pd.read_csv(app_data)\n",
        "reviews.head()"
      ],
      "execution_count": null,
      "outputs": []
    },
    {
      "cell_type": "code",
      "metadata": {
        "id": "JG8QIxRxa3G_"
      },
      "source": [
        "# Select the first row of data (the first record) from reviews, assigning it to the variable first_row.\n",
        "\n",
        "# Select the first 10 values from the description column in reviews, assigning the result to variable first_descriptions.\n",
        "\n",
        "# Select the records with index labels 1, 2, 3, 5, and 8, assigning the result to the variable sample_reviews.\n",
        "\n",
        "# Create a variable df containing the country, province, region_1, and region_2 columns of the records with the index labels 0, 1, 10, and 100.\n"
      ],
      "execution_count": null,
      "outputs": []
    },
    {
      "cell_type": "code",
      "metadata": {
        "id": "-6yBx4QAbZw0"
      },
      "source": [
        "# Create a variable df containing the country and variety columns of the first 100 records.\n",
        "# Hint: you may use loc or iloc. \n"
      ],
      "execution_count": null,
      "outputs": []
    },
    {
      "cell_type": "code",
      "metadata": {
        "id": "sHyZUfbBYO7q"
      },
      "source": [
        "# Buatlah DataFrame khusus wine yang berasal dari Italy\n"
      ],
      "execution_count": null,
      "outputs": []
    },
    {
      "cell_type": "code",
      "metadata": {
        "id": "gE7OBkBaaLkD"
      },
      "source": [
        "# Berapakah points rata-rata dari wine yang berasal dari France\n"
      ],
      "execution_count": null,
      "outputs": []
    },
    {
      "cell_type": "code",
      "metadata": {
        "id": "tP0kmMsBbtRs"
      },
      "source": [
        "# Create a DataFrame top_oceania_wines containing all reviews with at least 95 points (out of 100) \n",
        "# for wines from Australia or New Zealand.\n"
      ],
      "execution_count": null,
      "outputs": []
    }
  ]
}