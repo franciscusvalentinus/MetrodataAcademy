{
  "nbformat": 4,
  "nbformat_minor": 0,
  "metadata": {
    "kernelspec": {
      "display_name": "Python 3",
      "language": "python",
      "name": "python3"
    },
    "language_info": {
      "codemirror_mode": {
        "name": "ipython",
        "version": 3
      },
      "file_extension": ".py",
      "mimetype": "text/x-python",
      "name": "python",
      "nbconvert_exporter": "python",
      "pygments_lexer": "ipython3",
      "version": "3.6.4"
    },
    "colab": {
      "name": "Meeting 4 - Regression.ipynb",
      "provenance": [],
      "collapsed_sections": [],
      "toc_visible": true
    }
  },
  "cells": [
    {
      "cell_type": "markdown",
      "metadata": {
        "id": "IUnV98BFLEzK"
      },
      "source": [
        "<h1>Meeting 4: Linear Regression<h1>\n",
        "\n",
        "---\n",
        "\n",
        "\n",
        "***Untuk menyelesaikan permasalahan Supervised Machine Learning***"
      ]
    },
    {
      "cell_type": "markdown",
      "metadata": {
        "id": "mTBnNsYm1jwI"
      },
      "source": [
        "# Regression\n",
        "Regresi dan Klasifikasi dikategorikan di bawah payung yang sama dari supervised machine learning. Keduanya memiliki konsep yang sama dalam memanfaatkan kumpulan data training untuk membuat prediksi.<br>\n",
        "Perbedaan utama di antara Regresi dan Klasifikasi adalah bahwa variabel target dalam regresi adalah kontinu sedangkan untuk klasifikasi bersifat kategorikal."
      ]
    },
    {
      "cell_type": "markdown",
      "metadata": {
        "id": "vr18DFDoogyU"
      },
      "source": [
        "### Import library yang diperlukan"
      ]
    },
    {
      "cell_type": "code",
      "metadata": {
        "id": "XX3w-Ceoo0LA"
      },
      "source": [
        "import numpy as np\n",
        "import pandas as pd\n",
        "\n",
        "import matplotlib.pyplot as plt\n",
        "import seaborn as sns\n",
        "\n",
        "import scipy.stats as st\n",
        "import statsmodels.api as sm\n",
        "from sklearn.linear_model import LinearRegression"
      ],
      "execution_count": null,
      "outputs": []
    },
    {
      "cell_type": "markdown",
      "metadata": {
        "id": "mV_GhOt8sKMg"
      },
      "source": [
        "## Simple Liner Regression"
      ]
    },
    {
      "cell_type": "markdown",
      "metadata": {
        "id": "rkhEki7NokgG"
      },
      "source": [
        "### Load Dataset"
      ]
    },
    {
      "cell_type": "code",
      "metadata": {
        "id": "9C5YSWlXpCe7"
      },
      "source": [
        "sales_call = [20, 40, 20, 30, 10, 10, 20, 20, 20, 30]\n",
        "copier_sold = [30, 60, 40, 60, 30, 40, 40, 50, 30, 70]\n",
        "\n",
        "# Buatlah sebuah dataframe dengan dua kolom, yaitu \"Sales Call\" dan \"Copier Sold\"\n"
      ],
      "execution_count": null,
      "outputs": []
    },
    {
      "cell_type": "markdown",
      "metadata": {
        "id": "q9uFMsdKooAO"
      },
      "source": [
        "### Membuat model persamaan regresi dengan Scipy"
      ]
    },
    {
      "cell_type": "code",
      "metadata": {
        "id": "reVeAc4HpBnZ"
      },
      "source": [
        "# Dengan menggunakan library scipy.stats (lihat slide) buatlah model regresinya\n",
        "\n",
        "# Tampilkan persamaan regresinya\n"
      ],
      "execution_count": null,
      "outputs": []
    },
    {
      "cell_type": "markdown",
      "metadata": {
        "id": "3VNK3wXCu9J9"
      },
      "source": [
        "### Menampilkan garis regresi"
      ]
    },
    {
      "cell_type": "code",
      "metadata": {
        "id": "plh_7Vl_v3He"
      },
      "source": [
        "# Dengan menggunakan library lmplot dari seaborn, buatlah visualisasi datanya\n"
      ],
      "execution_count": null,
      "outputs": []
    },
    {
      "cell_type": "markdown",
      "metadata": {
        "id": "FuoTbAduvIV4"
      },
      "source": [
        "### Prediksi Copier Sold\n",
        "Jika seorang sales melakukan 20 calls"
      ]
    },
    {
      "cell_type": "code",
      "metadata": {
        "id": "PLpHMD2KwF98"
      },
      "source": [
        "# Buatlah prediksi penjualan mesin copy untuk seorang sales yang melakukan 20 sales call\n"
      ],
      "execution_count": null,
      "outputs": []
    },
    {
      "cell_type": "markdown",
      "metadata": {
        "id": "Qgwqy71EjOTb"
      },
      "source": [
        "## Exercise 1: Simple Linear Regression\n",
        "Pada sebuah perusahaan terdapat data antara Years of Experience sebagai Independent Variable dan Salary sebagai Dependent Variable.<br>\n",
        "Model regresi linier sederhana: y=β0​+β1​x+ε<br>\n",
        "`url = \"https://raw.githubusercontent.com/twiradinata/datasets/main/salary_data.csv\"`<br>\n",
        "Tentukan model persamaan regresi linier nya."
      ]
    },
    {
      "cell_type": "code",
      "metadata": {
        "id": "nFhLBluYwS6b"
      },
      "source": [
        "# Load dataset dari Github berikut ini ke dataframe\n",
        "url = \"https://raw.githubusercontent.com/twiradinata/datasets/main/salary_data.csv\"\n",
        "\n",
        "# Tampilkan 5 record paling atas\n"
      ],
      "execution_count": null,
      "outputs": []
    },
    {
      "cell_type": "code",
      "metadata": {
        "id": "X3R7cvRr423u"
      },
      "source": [
        "# Dengan menggunakan library scipy.stats (lihat slide) buatlah model regresinya\n",
        "\n",
        "# Tampilkan persamaan regresinya\n"
      ],
      "execution_count": null,
      "outputs": []
    },
    {
      "cell_type": "code",
      "metadata": {
        "id": "9fERTk2LoRxm"
      },
      "source": [
        "# Dengan menggunakan library lmplot dari seaborn, buatlah visualisasi datanya\n"
      ],
      "execution_count": null,
      "outputs": []
    },
    {
      "cell_type": "code",
      "metadata": {
        "id": "EU9jEeqb5OWZ"
      },
      "source": [
        "# Buatlah prediksi untuk karyawan yang pengalamannya 1.4thn, berapa salary nya?\n"
      ],
      "execution_count": null,
      "outputs": []
    },
    {
      "cell_type": "markdown",
      "metadata": {
        "id": "ohoZcrM-qKxl"
      },
      "source": [
        "## Multiple Linear Regression Analysis (Heating Cost)"
      ]
    },
    {
      "cell_type": "markdown",
      "metadata": {
        "id": "5CQXSljovF1t"
      },
      "source": [
        "## Exercise 2: Multiple Linear Regression"
      ]
    },
    {
      "cell_type": "markdown",
      "metadata": {
        "id": "--eV69ILqUOy"
      },
      "source": [
        "### Load Dataset"
      ]
    },
    {
      "cell_type": "code",
      "metadata": {
        "id": "hRigklG3rTfJ"
      },
      "source": [
        "temperature = [35,29,36,60,65,30,10,7,21,55,54,48,20,39,60,20,58,40,27,30]\n",
        "insulation = [3,4,7,6,5,5,6,10,9,2,12,5,5,4,8,5,7,8,9,7]\n",
        "age_of_furnace = [6,10,3,9,6,5,7,10,11,5,4,1,15,7,6,8,3,11,8,5]\n",
        "heating_cost = [250,360,165,43,92,200,355,290,230,120,73,205,400,320,72,272,94,190,235,139]\n",
        "\n",
        "# Buatlah sebuah dataframe dengan 4 kolom, yaitu: \n",
        "# temperature, insulation, age of furnace, dan heating cost\n",
        "\n",
        "# Tampilkan 5 data pertama dari dataframe\n"
      ],
      "execution_count": null,
      "outputs": []
    },
    {
      "cell_type": "markdown",
      "metadata": {
        "id": "rEH51tXQqXv8"
      },
      "source": [
        "### Exploratory Data Analysis (Univariate)"
      ]
    },
    {
      "cell_type": "code",
      "metadata": {
        "id": "Gb8QkrPyr4eG"
      },
      "source": [
        "# Buatlah EDA Univariat untuk menampilkan central tendency dari dataset diatas\n"
      ],
      "execution_count": null,
      "outputs": []
    },
    {
      "cell_type": "markdown",
      "metadata": {
        "id": "dh5WRIXSqkqG"
      },
      "source": [
        "### Exploratory Data Analysis (Multivariate)"
      ]
    },
    {
      "cell_type": "code",
      "metadata": {
        "id": "534uOD2Ys_KC"
      },
      "source": [
        "# Buatlah visualisasi data dengan menggunakan pairplot dari library seaborn untuk\n",
        "# EDA multivariat\n"
      ],
      "execution_count": null,
      "outputs": []
    },
    {
      "cell_type": "code",
      "metadata": {
        "id": "IBNN7A0jtYVQ"
      },
      "source": [
        "# Tampilkan heatmap untuk melihat kekuatan korelasi antara heating cost dan ketiga predictornya \n"
      ],
      "execution_count": null,
      "outputs": []
    },
    {
      "cell_type": "markdown",
      "metadata": {
        "id": "ifiYE4NNqpJA"
      },
      "source": [
        "### Tentukan variabel independent dan dependent nya"
      ]
    },
    {
      "cell_type": "code",
      "metadata": {
        "id": "AD_q2PPntkIw"
      },
      "source": [
        "# Buatlah variabel X yang merupakan dataframe berisi kolom \"temperature\", \"insulation\", \"age of furnace\"\n",
        "\n",
        "# Buatlah variabel y yang merupakan dataframe berisi kolom \"heating cost\"\n"
      ],
      "execution_count": null,
      "outputs": []
    },
    {
      "cell_type": "markdown",
      "metadata": {
        "id": "j6xKUwEQq0xk"
      },
      "source": [
        "### Membuat model persamaan Regresi dari seluruh data"
      ]
    },
    {
      "cell_type": "code",
      "metadata": {
        "id": "zTVozixwtq-b"
      },
      "source": [
        "# Buatlah model LinearRegression dari library sklearn (lihat slide)\n",
        "\n",
        "# Tampilkan persamaan regresi berganda nya\n"
      ],
      "execution_count": null,
      "outputs": []
    },
    {
      "cell_type": "markdown",
      "metadata": {
        "id": "AMzmxlo4q6I5"
      },
      "source": [
        "### Prediksi Heating Cost\n",
        "Jika Outside Temp = 30, Attic Insulation = 5, Age of Furnace = 10"
      ]
    },
    {
      "cell_type": "code",
      "metadata": {
        "id": "2yXFkaOJtxTT"
      },
      "source": [
        "# Hitunglah prediksi heating cost, jika Outside Temp = 30, Attic Insulation = 5, Age of Furnace = 10\n"
      ],
      "execution_count": null,
      "outputs": []
    },
    {
      "cell_type": "markdown",
      "metadata": {
        "id": "iXrXFzehrAl_"
      },
      "source": [
        "### Model Summary"
      ]
    },
    {
      "cell_type": "code",
      "metadata": {
        "id": "Nskf639AueKO"
      },
      "source": [
        "# Buatlah Model Summary dengan library statsmodel (lihat slide)\n",
        "\n",
        "# Print model summary nya"
      ],
      "execution_count": null,
      "outputs": []
    },
    {
      "cell_type": "markdown",
      "metadata": {
        "id": "5H1AwlJKTNil"
      },
      "source": [
        "## Multiple Linear Regression Analysis (Advertising Cost)\n",
        "Penerapan Evaluasi Model Regresi"
      ]
    },
    {
      "cell_type": "markdown",
      "metadata": {
        "id": "f-M8ijrEvRvD"
      },
      "source": [
        "## Exercise 3: Multiple Linear Regression"
      ]
    },
    {
      "cell_type": "markdown",
      "metadata": {
        "id": "pAupElX_VDRW"
      },
      "source": [
        "### Load Dataset\n",
        "Dataset yang digunakan memiliki informasi biaya beriklan di TV, Radio, dan Surat Kabar beserta dengan catatan Sales yang dihasilkan pada periode tertentu."
      ]
    },
    {
      "cell_type": "code",
      "metadata": {
        "id": "9S25IxPVVHZt"
      },
      "source": [
        "url = \"https://raw.githubusercontent.com/twiradinata/datasets/main/advertising.csv\"\n",
        "# Buatlah sebuah dataframe dengan 4 kolom, yaitu: \n",
        "# 'TV', 'Radio', 'Newspaper', 'Sales'\n",
        "\n",
        "# Tampilkan 5 data pertama dari dataframe\n"
      ],
      "execution_count": null,
      "outputs": []
    },
    {
      "cell_type": "markdown",
      "metadata": {
        "id": "m-q3CTc3oUd9"
      },
      "source": [
        "### Exploratory Data Analysis (Univariate)"
      ]
    },
    {
      "cell_type": "code",
      "metadata": {
        "id": "VFKh2h-oooEb"
      },
      "source": [
        "# Buatlah EDA Univariat untuk menampilkan central tendency dari dataset diatas\n"
      ],
      "execution_count": null,
      "outputs": []
    },
    {
      "cell_type": "code",
      "metadata": {
        "id": "SKm2R13vsuY4"
      },
      "source": [
        "# Buatlah box plot untuk ke-empat variabel dari dataset, perhatikan apakah ada outlier\n"
      ],
      "execution_count": null,
      "outputs": []
    },
    {
      "cell_type": "markdown",
      "metadata": {
        "id": "QSSpf7h-oevr"
      },
      "source": [
        "### Exploratory Data Analysis (Multivariate)"
      ]
    },
    {
      "cell_type": "code",
      "metadata": {
        "id": "msfZAzgqowzz"
      },
      "source": [
        "# Buatlah visualisasi data dengan menggunakan pairplot dari library seaborn untuk\n",
        "# EDA multivariat\n"
      ],
      "execution_count": null,
      "outputs": []
    },
    {
      "cell_type": "markdown",
      "metadata": {
        "id": "3GjKI6y7ZY3K"
      },
      "source": [
        "### Tentukan variabel independent dan dependent nya"
      ]
    },
    {
      "cell_type": "code",
      "metadata": {
        "id": "UH-JVfWJZVYk"
      },
      "source": [
        "# Buatlah variabel X yang merupakan dataframe berisi kolom 'TV', 'Radio', 'Newspaper'\n",
        "\n",
        "# Buatlah variabel y yang merupakan dataframe berisi kolom 'Sales'\n"
      ],
      "execution_count": null,
      "outputs": []
    },
    {
      "cell_type": "markdown",
      "metadata": {
        "id": "7bf9NeDSW87k"
      },
      "source": [
        "### Split dataset menjadi data Training dan data Test"
      ]
    },
    {
      "cell_type": "code",
      "metadata": {
        "id": "_nysPriIXEPZ"
      },
      "source": [
        "from sklearn.model_selection import train_test_split\n",
        "\n",
        "# Pecah dataset menjadi train dan test, dengan test_size = 0.25\n"
      ],
      "execution_count": null,
      "outputs": []
    },
    {
      "cell_type": "markdown",
      "metadata": {
        "id": "NYpkbF_IXRut"
      },
      "source": [
        "### Membuat model persamaan Regresi berdasarkan data Training saja"
      ]
    },
    {
      "cell_type": "code",
      "metadata": {
        "id": "3opLxRpNXa6I"
      },
      "source": [
        "# Buatlah model LinearRegression dari library sklearn\n",
        "\n",
        "# Tampilkan persamaan regresi berganda nya\n"
      ],
      "execution_count": null,
      "outputs": []
    },
    {
      "cell_type": "markdown",
      "metadata": {
        "id": "umhHL1tJXt8l"
      },
      "source": [
        "### Uji coba model persamaan berdasarkan data anonymous"
      ]
    },
    {
      "cell_type": "code",
      "metadata": {
        "id": "P_rohSeFX2uD"
      },
      "source": [
        "# Prediksikan apabila biaya beriklan di TV 150, Radio 41, Newspaper 58, berapa Sales yang dihasilkan?\n"
      ],
      "execution_count": null,
      "outputs": []
    },
    {
      "cell_type": "markdown",
      "metadata": {
        "id": "al7r89IHYN3g"
      },
      "source": [
        "### Uji hasil prediksi dengan data Test"
      ]
    },
    {
      "cell_type": "code",
      "metadata": {
        "id": "P2d7I1boYSN6"
      },
      "source": [
        "# Buatlah sebuah dataframe yang berisi y (predicted) vs. y (test)\n"
      ],
      "execution_count": null,
      "outputs": []
    },
    {
      "cell_type": "markdown",
      "metadata": {
        "id": "d4Hrf9D1e3wG"
      },
      "source": [
        "### Evaluating Goodness of Fit using RMSE"
      ]
    },
    {
      "cell_type": "code",
      "metadata": {
        "id": "_gU73EX0e9o0"
      },
      "source": [
        "from sklearn.metrics import mean_squared_error\n",
        "\n",
        "# Lakukan evaluasi model regresi dengan Root Mean Squared Error (RMSE)\n"
      ],
      "execution_count": null,
      "outputs": []
    },
    {
      "cell_type": "code",
      "metadata": {
        "id": "56L7sqEns5GT"
      },
      "source": [
        "from sklearn.metrics import mean_absolute_percentage_error\n",
        "\n",
        "# Lakukan evaluasi model regresi dengan Mean Absolute Percentage Error (MAPE)\n"
      ],
      "execution_count": null,
      "outputs": []
    },
    {
      "cell_type": "markdown",
      "metadata": {
        "id": "rwJuaj0UExi1"
      },
      "source": [
        "# Assignment\n",
        "This dataset is a record of 7 common different fish species in fish market sales. With this dataset, a predictive model can be performed using machine friendly data and estimate the weight of fish can be predicted.<br>\n",
        "Please predict the weight of a fish with Length1 = 30, Length2 = 29, Length3 = 34, Height = 13, and Width = 5.\n",
        "<p>Dataset is available at: https://raw.githubusercontent.com/twiradinata/datasets/main/fish-weight.csv"
      ]
    },
    {
      "cell_type": "code",
      "metadata": {
        "id": "vQjhC9sB6yVr"
      },
      "source": [
        "url = \"https://raw.githubusercontent.com/twiradinata/datasets/main/fish-weight.csv\"\n",
        "\n",
        "# Buatlah sebuah dataframe untuk menampung seluruh kolom dataset \n",
        "\n",
        "# Tampilkan 5 data pertama dari dataframe\n"
      ],
      "execution_count": null,
      "outputs": []
    },
    {
      "cell_type": "code",
      "metadata": {
        "id": "Gl6a9IHLn-dY"
      },
      "source": [
        "# Periksalah apa ada missing values, jika ada silahkan diisi dengan rata-rata nilai kolom\n"
      ],
      "execution_count": null,
      "outputs": []
    },
    {
      "cell_type": "code",
      "metadata": {
        "id": "D0PxbAg0k64X"
      },
      "source": [
        "# Buatlah EDA Univariat untuk menampilkan central tendency dari dataset diatas\n"
      ],
      "execution_count": null,
      "outputs": []
    },
    {
      "cell_type": "code",
      "metadata": {
        "id": "VuY5I2cykMde"
      },
      "source": [
        "# Buatlah box plot variabel bertipe numerik dari dataset, perhatikan apakah ada outlier\n"
      ],
      "execution_count": null,
      "outputs": []
    },
    {
      "cell_type": "code",
      "metadata": {
        "id": "VM6Z_lfekYG9"
      },
      "source": [
        "# Buatlah visualisasi data dengan menggunakan pairplot dari library seaborn untuk\n",
        "# EDA multivariat\n"
      ],
      "execution_count": null,
      "outputs": []
    },
    {
      "cell_type": "code",
      "metadata": {
        "id": "bPFpVFn3lEDA"
      },
      "source": [
        "# Lanjutkan langkah konstruksi model regresi hingga evaluasinya seperti pada Exercise 3.\n"
      ],
      "execution_count": null,
      "outputs": []
    },
    {
      "cell_type": "markdown",
      "metadata": {
        "id": "caH4Uopclhye"
      },
      "source": [
        "<h1 align=\"center\">=== Selamat Bekerja ===</h1>"
      ]
    }
  ]
}