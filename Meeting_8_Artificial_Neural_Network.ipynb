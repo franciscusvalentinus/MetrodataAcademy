{
  "nbformat": 4,
  "nbformat_minor": 0,
  "metadata": {
    "colab": {
      "name": "Meeting 8 - Artificial Neural Network.ipynb",
      "provenance": [],
      "collapsed_sections": [],
      "toc_visible": true
    },
    "kernelspec": {
      "name": "python3",
      "display_name": "Python 3"
    },
    "language_info": {
      "name": "python"
    }
  },
  "cells": [
    {
      "cell_type": "code",
      "metadata": {
        "id": "R5KDailaYc5H"
      },
      "source": [
        "import numpy as np\n",
        "import pandas as pd\n",
        "import matplotlib.pyplot as plt\n",
        "import seaborn as sns"
      ],
      "execution_count": null,
      "outputs": []
    },
    {
      "cell_type": "markdown",
      "metadata": {
        "id": "LEeRUJyHvrm9"
      },
      "source": [
        "# Exercise 1 Breast Cancer\n",
        "Gunakan dataset iris pada link berikut https://raw.githubusercontent.com/elflin/datasets/main/BreastCancer.csv </br>\n",
        "untuk melakukan klasifikasi menggunakna Neural Network"
      ]
    },
    {
      "cell_type": "markdown",
      "metadata": {
        "id": "uI_Fece6vaKi"
      },
      "source": [
        "## Load Dataset"
      ]
    },
    {
      "cell_type": "code",
      "metadata": {
        "id": "e6fLLOJYYnwS"
      },
      "source": [
        "# Load data dari link github berikut\n",
        "# Munculkan head() dari data"
      ],
      "execution_count": null,
      "outputs": []
    },
    {
      "cell_type": "code",
      "metadata": {
        "id": "KdulMBvAaBK3"
      },
      "source": [
        "# Munculkan informasi dari column pada data"
      ],
      "execution_count": null,
      "outputs": []
    },
    {
      "cell_type": "code",
      "metadata": {
        "id": "i_ii5DDlaamT"
      },
      "source": [
        "# Munculkan deskripsi dari masing-masing column pada data"
      ],
      "execution_count": null,
      "outputs": []
    },
    {
      "cell_type": "code",
      "metadata": {
        "id": "4_Hzym0LxjjV"
      },
      "source": [
        "# Munculkan jumlah data untuk masing-masing class\n"
      ],
      "execution_count": null,
      "outputs": []
    },
    {
      "cell_type": "code",
      "metadata": {
        "id": "rVCMoz64bxHL"
      },
      "source": [
        "# Alternatif: Seaborn pairplot untuk memunculkan penyebaran data\n",
        "# TIDAK USAH DIKERJAKAN KARENA TERLALU BANYAK DATA SEHINGGA LAMA"
      ],
      "execution_count": null,
      "outputs": []
    },
    {
      "cell_type": "markdown",
      "metadata": {
        "id": "Yv78W3uu9SSr"
      },
      "source": [
        "## Pre-procesing Data"
      ]
    },
    {
      "cell_type": "code",
      "metadata": {
        "id": "KrH4Q15LeV2v"
      },
      "source": [
        "# Pisahkan dataset menjadi x dan y menggunakna loc\n"
      ],
      "execution_count": null,
      "outputs": []
    },
    {
      "cell_type": "code",
      "metadata": {
        "id": "dxN4KVNhG8Ox"
      },
      "source": [
        "from imblearn.over_sampling import RandomOverSampler\n",
        "# Over sampling"
      ],
      "execution_count": null,
      "outputs": []
    },
    {
      "cell_type": "code",
      "metadata": {
        "id": "iYXzIaJeHa7K"
      },
      "source": [
        "# Munculkan jumlah data untuk masing-masing class setelah di over sampling\n"
      ],
      "execution_count": null,
      "outputs": []
    },
    {
      "cell_type": "code",
      "metadata": {
        "id": "JhQT55QK23Nl"
      },
      "source": [
        "# Normalisasi data"
      ],
      "execution_count": null,
      "outputs": []
    },
    {
      "cell_type": "code",
      "metadata": {
        "id": "ROQ2ETYf4NkJ"
      },
      "source": [
        "# Setelah dataset dibagi menjadi x = atribut dan y = class kemudian dipisahkan menjadi data training dan testing menggunakan train_test_split()"
      ],
      "execution_count": null,
      "outputs": []
    },
    {
      "cell_type": "markdown",
      "metadata": {
        "id": "4ZmCL9Mtfnin"
      },
      "source": [
        "## Neural Network"
      ]
    },
    {
      "cell_type": "code",
      "metadata": {
        "id": "6JBQohlqekBM"
      },
      "source": [
        "from sklearn.neural_network import MLPClassifier\n",
        "# Buat model menggunakan neural network\n",
        "\n",
        "\n",
        "# Lakukan training dengan dataset train\n"
      ],
      "execution_count": null,
      "outputs": []
    },
    {
      "cell_type": "code",
      "metadata": {
        "id": "Rl7R9d3aek33"
      },
      "source": [
        "# Lakukan prediksi menggunakan x_test lalu print class hasil prediksi\n"
      ],
      "execution_count": null,
      "outputs": []
    },
    {
      "cell_type": "code",
      "metadata": {
        "id": "hR3SWxKhemXn"
      },
      "source": [
        "# Print akurasi dari data testing menggunakan score\n"
      ],
      "execution_count": null,
      "outputs": []
    },
    {
      "cell_type": "code",
      "metadata": {
        "id": "BAc7812RlA2v"
      },
      "source": [
        "from sklearn.metrics import confusion_matrix\n",
        "# Matriks confusion array using sklearn\n"
      ],
      "execution_count": null,
      "outputs": []
    },
    {
      "cell_type": "code",
      "metadata": {
        "id": "etYzwDlwlrh0"
      },
      "source": [
        "# Munculkan heatmap dari matriks confusion\n"
      ],
      "execution_count": null,
      "outputs": []
    },
    {
      "cell_type": "code",
      "metadata": {
        "id": "KsBTz-i1hqmm"
      },
      "source": [
        "# Model Evaluation\n"
      ],
      "execution_count": null,
      "outputs": []
    },
    {
      "cell_type": "markdown",
      "metadata": {
        "id": "UMzuOcWG9W1a"
      },
      "source": [
        "# Exercise 2 Orthopedic Datasets\n",
        "Gunakan dataset iris pada link berikut https://raw.githubusercontent.com/elflin/datasets/main/orthopedic_3class.csv </br>\n",
        "untuk melakukan klasifikasi menggunakan Support Vector Machine\n"
      ]
    },
    {
      "cell_type": "markdown",
      "metadata": {
        "id": "gglQmPnm-HkG"
      },
      "source": [
        "## Load Dataset"
      ]
    },
    {
      "cell_type": "code",
      "metadata": {
        "id": "jozC4WqX-PtG"
      },
      "source": [
        "# Load data dari link github berikut\n",
        "# Munculkan head() dari data\n"
      ],
      "execution_count": null,
      "outputs": []
    },
    {
      "cell_type": "code",
      "metadata": {
        "id": "UbEWEPS5-PtH"
      },
      "source": [
        "# Munculkan informasi dari column pada data\n"
      ],
      "execution_count": null,
      "outputs": []
    },
    {
      "cell_type": "code",
      "metadata": {
        "id": "yM-TVWhB-PtH"
      },
      "source": [
        "# Munculkan deskripsi dari masing-masing column pada data\n"
      ],
      "execution_count": null,
      "outputs": []
    },
    {
      "cell_type": "code",
      "metadata": {
        "id": "j-LgVqgZ-PtH"
      },
      "source": [
        "# Munculkan jumlah data untuk masing-masing class\n"
      ],
      "execution_count": null,
      "outputs": []
    },
    {
      "cell_type": "code",
      "metadata": {
        "id": "hI9kdvUBd_Is"
      },
      "source": [
        "# Alternatif: Seaborn Pairplot\n"
      ],
      "execution_count": null,
      "outputs": []
    },
    {
      "cell_type": "markdown",
      "metadata": {
        "id": "ispjB9Bc_x0a"
      },
      "source": [
        "## Pre-procesing Data"
      ]
    },
    {
      "cell_type": "code",
      "metadata": {
        "id": "Kgj7IH0c_x0a"
      },
      "source": [
        "# Pisahkan dataset menjadi x dan y menggunakna loc\n"
      ],
      "execution_count": null,
      "outputs": []
    },
    {
      "cell_type": "code",
      "metadata": {
        "id": "sYdCl-2cIVQJ"
      },
      "source": [
        "from imblearn.over_sampling import RandomOverSampler\n",
        "# Over sampling\n",
        "X_resampled, y_resampled = RandomOverSampler().fit_resample(X, y)"
      ],
      "execution_count": null,
      "outputs": []
    },
    {
      "cell_type": "code",
      "metadata": {
        "id": "7278061LIZpA"
      },
      "source": [
        "# Munculkan jumlah data untuk masing-masing class setelah di over sampling\n"
      ],
      "execution_count": null,
      "outputs": []
    },
    {
      "cell_type": "code",
      "metadata": {
        "id": "kaUX1vzJ_x0b"
      },
      "source": [
        "# Normalisasi data\n"
      ],
      "execution_count": null,
      "outputs": []
    },
    {
      "cell_type": "code",
      "metadata": {
        "id": "2ks-05h0_x0b"
      },
      "source": [
        "# Setelah dataset dibagi menjadi x = atribut dan y = class kemudian dipisahkan menjadi data training dan testing menggunakan train_test_split()\n"
      ],
      "execution_count": null,
      "outputs": []
    },
    {
      "cell_type": "markdown",
      "metadata": {
        "id": "C_IMswPYibqC"
      },
      "source": [
        "## Neural Network"
      ]
    },
    {
      "cell_type": "code",
      "metadata": {
        "id": "KjKp7kYcibqD"
      },
      "source": [
        "from sklearn.neural_network import MLPClassifier\n",
        "# Buat model menggunakan neural network\n",
        "\n",
        "\n",
        "# Lakukan training dengan dataset train\n"
      ],
      "execution_count": null,
      "outputs": []
    },
    {
      "cell_type": "code",
      "metadata": {
        "id": "6MUusnBEibqE"
      },
      "source": [
        "# Lakukan prediksi menggunakan x_test lalu print class hasil prediksi\n"
      ],
      "execution_count": null,
      "outputs": []
    },
    {
      "cell_type": "code",
      "metadata": {
        "id": "M8AJ7ElTibqE"
      },
      "source": [
        "# Print akurasi dari data testing menggunakan score\n"
      ],
      "execution_count": null,
      "outputs": []
    },
    {
      "cell_type": "code",
      "metadata": {
        "id": "yK3l_pCaibqF"
      },
      "source": [
        "from sklearn.metrics import confusion_matrix\n",
        "# Matriks confusion array using sklearn"
      ],
      "execution_count": null,
      "outputs": []
    },
    {
      "cell_type": "code",
      "metadata": {
        "id": "XD2AUJw8ibqF"
      },
      "source": [
        "# Munculkan heatmap dari matriks confusion\n"
      ],
      "execution_count": null,
      "outputs": []
    },
    {
      "cell_type": "code",
      "metadata": {
        "id": "YiceW-BFjHnW"
      },
      "source": [
        "# Model Evaluation\n"
      ],
      "execution_count": null,
      "outputs": []
    },
    {
      "cell_type": "markdown",
      "metadata": {
        "id": "2hBSykt_Ah4E"
      },
      "source": [
        "# Assignment\n",
        "Carilah dataset yang menarik lalu gunakan\n",
        "untuk melakukan klasifikasi menggunakan Support Vector Machine\n"
      ]
    },
    {
      "cell_type": "markdown",
      "metadata": {
        "id": "L6vWczqYAh4F"
      },
      "source": [
        "## Load Dataset"
      ]
    },
    {
      "cell_type": "markdown",
      "metadata": {
        "id": "o4NKJgrXAh4H"
      },
      "source": [
        "## Pre-procesing Data"
      ]
    },
    {
      "cell_type": "markdown",
      "metadata": {
        "id": "yQL8wg5Oiilh"
      },
      "source": [
        "## Neural Network"
      ]
    }
  ]
}