{
  "nbformat": 4,
  "nbformat_minor": 0,
  "metadata": {
    "colab": {
      "name": "Meeting 2 - Python Basics.ipynb",
      "provenance": [],
      "collapsed_sections": []
    },
    "kernelspec": {
      "name": "python3",
      "display_name": "Python 3"
    }
  },
  "cells": [
    {
      "cell_type": "markdown",
      "metadata": {
        "id": "QirxLZW3Qn45"
      },
      "source": [
        "# KMMI Machine Learning\n",
        "\n",
        "---\n",
        "\n",
        "\n",
        "***Classroom Exercise Meeting 2: Python Basics***"
      ]
    },
    {
      "cell_type": "markdown",
      "metadata": {
        "id": "mtoF_YeaVJmZ"
      },
      "source": [
        "## Data Types"
      ]
    },
    {
      "cell_type": "code",
      "metadata": {
        "id": "Z0n9awKgwN_s"
      },
      "source": [
        "# Tentukan tipe data dari variabel one, two, three, four, five berikut ini dengan perintah type\n",
        "one = 128\n",
        "two = 3.14\n",
        "three = False\n",
        "four = 'M'\n",
        "five = {'marvell': ['Iron Man', 'Captain America', 'Thor', 'Black Widow'],\n",
        "        'dc': ['Superman', 'Batman', 'Joker','Wonder Woman']}\n",
        "\n"
      ],
      "execution_count": null,
      "outputs": []
    },
    {
      "cell_type": "code",
      "metadata": {
        "id": "3aSPrCbS0qWj"
      },
      "source": [
        "# Tentukan tipe data yang dihasilkan dari operasi aritmatika berikut ini\n",
        "18 / 2\n",
        "9 // 3\n",
        "12 ** 2\n",
        "12.5 ** 2\n",
        "37 % 6"
      ],
      "execution_count": null,
      "outputs": []
    },
    {
      "cell_type": "code",
      "metadata": {
        "id": "CtsRhIH52owO"
      },
      "source": [
        "# Perjalanan darat dari Surabaya ke Jakarta adalah 778 kilometer\n",
        "# Berapa jam dan berapa menit waktu yang dibutuhkan sebuah bus kecepatan yang rata-ratanya 90 kilometer per jam?\n",
        "\n"
      ],
      "execution_count": null,
      "outputs": []
    },
    {
      "cell_type": "markdown",
      "metadata": {
        "id": "cC57tp7NCkzC"
      },
      "source": [
        "## Data Structure"
      ]
    },
    {
      "cell_type": "code",
      "metadata": {
        "id": "Nzw-0obCCnM_"
      },
      "source": [
        "# Berikut adalah nilai machine learning mahasiswa kelas A.\n",
        "my_score_tuple = (87, 75, 91, \"fail\", 62, 77, 100, 98, 100, 75)\n",
        "my_score_list = [87, 75, 91, \"fail\", 62, 77, 100, 98, 100, 75]\n",
        "\n",
        "# Tampilkan elemen ke-4 dari tuple diatas\n",
        "\n",
        "# Tampilkan 3 elemen terakhir dari tuple diatas\n",
        "\n",
        "# Bagaimana cara menampilkan jumlah yang dapat score 100?\n",
        "\n",
        "# Tampilkan list atas mulai dari nilai terkecil ke terbesar\n"
      ],
      "execution_count": null,
      "outputs": []
    },
    {
      "cell_type": "code",
      "metadata": {
        "id": "rRxDfv-eDk8K"
      },
      "source": [
        "# Berikut adalah nilai machine learning mahasiswa kelas B.\n",
        "class_b_score_list = [63, 65, 81, 82, 92, 57, \"fail\", \"fail\", 70, 85]\n",
        "\n",
        "# Tambahkan nilai mahasiswa kelas A dan kelas B kedalam list bernama all_score_list\n"
      ],
      "execution_count": null,
      "outputs": []
    },
    {
      "cell_type": "code",
      "metadata": {
        "id": "FqbPdRxkKgV7"
      },
      "source": [
        "# Berikut adalah menu makanan pada 3 resto di dekat kampus UC\n",
        "my_resto_1 = {\"geprek\", \"nasi sayur\", \"coffeetorium\", \"geprek\", \"pinangsia\"}\n",
        "my_resto_2 = {\"nasi sayur\", \"geprek\", \"pinangsia\"}\n",
        "my_resto_3 = {\"nasi sayur\", \"coffeetorium\", \"soto ayam\"}\n",
        "\n",
        "# Ada berapa elemen pada menu di resto 1?\n",
        "\n",
        "# Apakah resto 2 dan resto 3 merupakan subset dari resto 1?\n",
        "\n",
        "# Menu apa yang ada di resto 2 tetapi tidak ada di resto 3?\n",
        "\n",
        "# Menu apa yang sama-sama dimiliki oleh resto 2 dan resto 3?\n",
        "\n",
        "# Tampilkan seluruh menu yang ada di 3 resto dekat kampus UC\n"
      ],
      "execution_count": null,
      "outputs": []
    },
    {
      "cell_type": "code",
      "metadata": {
        "id": "4AEeEBAmKrh-"
      },
      "source": [
        "# Berikut adalah data dari 2 hp populer\n",
        "samsung_note_20 = {\"Color\": \"Black\", \"Size\": 6.5, \"Price\": 19000000}\n",
        "iphone_12_pro = {\"Color\": \"Dark Grey\", \"Size\": 6.1, \"Price\": 18500000}\n",
        "\n",
        "# Bagaimana cara menampilkan Color dari samsung_note_20?\n",
        "\n",
        "# Bagaimana cara mengganti value Size dari iphone_12_pro dengan nilai 5.85\n",
        "\n",
        "# Buatlah DataFrame dari pandas library dari kedua dictionary ini\n",
        "# Lihat: https://www.geeksforgeeks.org/how-to-create-dataframe-from-dictionary-in-python-pandas/\n",
        "# Tampilkan DataFrame nya\n"
      ],
      "execution_count": null,
      "outputs": []
    },
    {
      "cell_type": "markdown",
      "metadata": {
        "id": "4pOFA5M6VyWu"
      },
      "source": [
        "## Programming Fundamentals"
      ]
    },
    {
      "cell_type": "markdown",
      "metadata": {
        "id": "tkSxAVvoXhxq"
      },
      "source": [
        "Perhatikan tabel interpretasi Hasil Lab Covid-19 pada link berikut ini:\n",
        "[link text](https://www.kompas.com/tren/image/2020/09/09/084500965/memahami-pcr-dan-rapid-test-pada-hasil-lab-covid-19-seperti-apa-?page=1)"
      ]
    },
    {
      "cell_type": "code",
      "metadata": {
        "id": "-F4-zdQxWBYG"
      },
      "source": [
        "# Buatlah sebuah function bernama interpret yang memiliki 3 parameter, yaitu: PCR, Ig_M, dan Ig_G\n",
        "# Function ini jika diakses akan memberikan return Interpretasi hasil\n",
        "# Kombinasi ketiga argument yang tidak ditemukan dianggap tidak valid\n",
        "def interpret(PCR, Ig_M, Ig_G):\n",
        "  return \"\"\n",
        "\n",
        "interpret('positif','negatif','negatif')"
      ],
      "execution_count": null,
      "outputs": []
    },
    {
      "cell_type": "code",
      "metadata": {
        "id": "WKwkLyu0YsSt"
      },
      "source": [
        "# Buatlah sebuah Lambda Function untuk mengkonversi inch ke centimeter.\n"
      ],
      "execution_count": null,
      "outputs": []
    },
    {
      "cell_type": "markdown",
      "metadata": {
        "id": "IRJQVLvIeCCk"
      },
      "source": [
        "<h1 align=\"center\">=== Selamat Bekerja ===</h1>"
      ]
    }
  ]
}